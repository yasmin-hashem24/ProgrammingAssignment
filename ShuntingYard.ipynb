{
 "cells": [
  {
   "cell_type": "code",
   "execution_count": 5,
   "metadata": {},
   "outputs": [],
   "source": [
    "def shuntingYardAlgo(infix):\n",
    "    postfix = \"\"\n",
    "    stack = []\n",
    "    classes_flag=False\n",
    "    precedence = {'*': 5, '+': 4, '?': 3, '.': 2, '|': 1}\n",
    "    alphabet = 'abcdefghijklmnopqrstuvwxyzABCDEFGHIJKLMNOPQRSTUVWXYZ'\n",
    "    digits = '0123456789'\n",
    "    opened=0\n",
    "\n",
    "    for c in infix:\n",
    "        if c=='(' or c=='[':\n",
    "            stack.append(c)\n",
    "            classes_flag=True if c=='[' else False\n",
    "            opened+=1\n",
    "        elif c==')' or c==']':\n",
    "            while stack[-1]!='(' and stack[-1]!='[':\n",
    "                postfix += stack.pop()\n",
    "            if stack==[]:\n",
    "                return False\n",
    "            \n",
    "            stack.pop()\n",
    "            opened -= 1\n",
    "            classes_flag=False\n",
    "        elif c in precedence:\n",
    "            while stack and precedence.get(stack[-1], 0) >= precedence[c]:\n",
    "                postfix += stack.pop()\n",
    "            stack.append(c)\n",
    "        elif c=='-':\n",
    "            if(c==infix[0] or c==infix[-1]):\n",
    "                return False\n",
    "            final=infix[infix.index(c)+1]\n",
    "            first=postfix[-1]\n",
    "            proceeded_list=list()\n",
    "            for a in alphabet+digits:\n",
    "                if a>=first and a<=final:\n",
    "                    proceeded_list.append(a)    \n",
    "                    proceeded_list.append('|')\n",
    "\n",
    "            infix+= ''.join(proceeded_list[:-1])\n",
    "\n",
    "        else:\n",
    "            postfix += c\n",
    "            if classes_flag:\n",
    "                postfix += '|'\n",
    "    if opened != 0:\n",
    "        return False\n",
    "\n",
    "    while stack:\n",
    "        postfix += stack.pop()\n",
    "\n",
    "    return postfix\n",
    "\n",
    "    \n",
    "\n"
   ]
  }
 ],
 "metadata": {
  "kernelspec": {
   "display_name": "base",
   "language": "python",
   "name": "python3"
  },
  "language_info": {
   "codemirror_mode": {
    "name": "ipython",
    "version": 3
   },
   "file_extension": ".py",
   "mimetype": "text/x-python",
   "name": "python",
   "nbconvert_exporter": "python",
   "pygments_lexer": "ipython3",
   "version": "3.11.5"
  }
 },
 "nbformat": 4,
 "nbformat_minor": 2
}
