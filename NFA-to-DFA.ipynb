{
 "cells": [
  {
   "cell_type": "code",
   "execution_count": 4,
   "metadata": {},
   "outputs": [],
   "source": [
    "import json\n",
    "import networkx as nx\n",
    "from graphviz import Digraph\n",
    "from collections import namedtuple, defaultdict\n",
    "\n",
    "with open('NFA.json') as _:\n",
    "    NFA = json.load(_)\n",
    "Graph = nx.Graph()\n",
    "startingState = NFA['startingState']"
   ]
  },
  {
   "cell_type": "code",
   "execution_count": 5,
   "metadata": {},
   "outputs": [],
   "source": [
    "def add_epsilon_moves(queue: list) -> list:\n",
    "    visited = []\n",
    "\n",
    "    while queue:\n",
    "        state = queue.pop(0) \n",
    "        visited.append(state)\n",
    "        if '$' in NFA[state]:\n",
    "            epsilon_value = NFA[state]['$']\n",
    "            if isinstance(epsilon_value, list):\n",
    "                for item in epsilon_value:\n",
    "                    if item not in visited and item not in queue:\n",
    "                        queue.append(item)\n",
    "            else:\n",
    "                if epsilon_value not in visited and epsilon_value not in queue:\n",
    "                    queue.append(epsilon_value)\n",
    "    return visited\n",
    "\n",
    "def get_possible_inputs(states: set, input_list=None) -> set:\n",
    "    inputs = set()\n",
    "    for state in states:\n",
    "        keys = list(input_list[state].keys()) if input_list is not None else list(NFA[state].keys())\n",
    "        for key in keys[1:]:\n",
    "            if key != '$' and key not in inputs:\n",
    "                inputs.add(key)\n",
    "    return inputs\n",
    "\n",
    "def add_inputs(states: set, inputs: set) -> dict :\n",
    "    state_inputs = {}\n",
    "    for input in inputs:\n",
    "        ns = set()\n",
    "        for state in states:\n",
    "            if(input in NFA[state]):\n",
    "                ns.add(NFA[state][input])\n",
    "        ns.update(add_epsilon_moves(list(ns)))\n",
    "        state_inputs[input] = ns\n",
    "    return state_inputs\n",
    "\n",
    "def checkTerminating(states: set, input_list=None) -> bool:\n",
    "    for state in states:\n",
    "        state_dict = input_list[state] if input_list is not None else NFA[state]\n",
    "        if state_dict['isTerminatingState']:\n",
    "            return True\n",
    "    return False\n",
    "\n",
    "def sort_dict(d: dict):\n",
    "    term_state = d.pop('isTerminatingState')\n",
    "    sorted_dict = dict(sorted(d.items()))\n",
    "    sorted_dict = {\"isTerminatingState\": term_state, **sorted_dict}\n",
    "    return sorted_dict"
   ]
  },
  {
   "cell_type": "code",
   "execution_count": 6,
   "metadata": {},
   "outputs": [
    {
     "ename": "TypeError",
     "evalue": "unhashable type: 'list'",
     "output_type": "error",
     "traceback": [
      "\u001b[1;31m---------------------------------------------------------------------------\u001b[0m",
      "\u001b[1;31mTypeError\u001b[0m                                 Traceback (most recent call last)",
      "Cell \u001b[1;32mIn[6], line 21\u001b[0m\n\u001b[0;32m     19\u001b[0m ep_states \u001b[38;5;241m=\u001b[39m add_epsilon_moves(\u001b[38;5;28mlist\u001b[39m(states_dict[ns]\u001b[38;5;241m.\u001b[39mget(\u001b[38;5;124m'\u001b[39m\u001b[38;5;124mstates\u001b[39m\u001b[38;5;124m'\u001b[39m)))\n\u001b[0;32m     20\u001b[0m inputs \u001b[38;5;241m=\u001b[39m get_possible_inputs(ep_states)\n\u001b[1;32m---> 21\u001b[0m outStates \u001b[38;5;241m=\u001b[39m \u001b[43madd_inputs\u001b[49m\u001b[43m(\u001b[49m\u001b[43mep_states\u001b[49m\u001b[43m,\u001b[49m\u001b[43m \u001b[49m\u001b[43minputs\u001b[49m\u001b[43m)\u001b[49m\n\u001b[0;32m     22\u001b[0m \u001b[38;5;28;01mfor\u001b[39;00m \u001b[38;5;28minput\u001b[39m \u001b[38;5;129;01min\u001b[39;00m inputs:\n\u001b[0;32m     23\u001b[0m     \u001b[38;5;28;01mfor\u001b[39;00m key \u001b[38;5;129;01min\u001b[39;00m \u001b[38;5;28mlist\u001b[39m(states_dict\u001b[38;5;241m.\u001b[39mkeys())[\u001b[38;5;241m1\u001b[39m:]:\n",
      "Cell \u001b[1;32mIn[5], line 33\u001b[0m, in \u001b[0;36madd_inputs\u001b[1;34m(states, inputs)\u001b[0m\n\u001b[0;32m     31\u001b[0m \u001b[38;5;28;01mfor\u001b[39;00m state \u001b[38;5;129;01min\u001b[39;00m states:\n\u001b[0;32m     32\u001b[0m     \u001b[38;5;28;01mif\u001b[39;00m(\u001b[38;5;28minput\u001b[39m \u001b[38;5;129;01min\u001b[39;00m NFA[state]):\n\u001b[1;32m---> 33\u001b[0m         \u001b[43mns\u001b[49m\u001b[38;5;241;43m.\u001b[39;49m\u001b[43madd\u001b[49m\u001b[43m(\u001b[49m\u001b[43mNFA\u001b[49m\u001b[43m[\u001b[49m\u001b[43mstate\u001b[49m\u001b[43m]\u001b[49m\u001b[43m[\u001b[49m\u001b[38;5;28;43minput\u001b[39;49m\u001b[43m]\u001b[49m\u001b[43m)\u001b[49m\n\u001b[0;32m     34\u001b[0m ns\u001b[38;5;241m.\u001b[39mupdate(add_epsilon_moves(\u001b[38;5;28mlist\u001b[39m(ns)))\n\u001b[0;32m     35\u001b[0m state_inputs[\u001b[38;5;28minput\u001b[39m] \u001b[38;5;241m=\u001b[39m ns\n",
      "\u001b[1;31mTypeError\u001b[0m: unhashable type: 'list'"
     ]
    }
   ],
   "source": [
    "states = set(); states_dict = {}\n",
    "states.add(startingState)\n",
    "ct = 0; nname = f\"NS{ct}\"\n",
    "states.update(add_epsilon_moves([startingState]))\n",
    "\n",
    "states_dict['startingState'] = nname\n",
    "states_dict[nname] = {'isTerminatingState': checkTerminating(states)}; \n",
    "states_dict[nname]['states'] = states; ct+=1\n",
    "states_dict[nname]['inp'] = ', '.join(map(str, states))\n",
    "\n",
    "kv = list(states_dict.keys())\n",
    "i = 0\n",
    "while i < len(kv):\n",
    "    ns = kv[i]\n",
    "    ep_states = set().clear()\n",
    "    if ns == \"startingState\":\n",
    "        i += 1\n",
    "        continue\n",
    "    ep_states = add_epsilon_moves(list(states_dict[ns].get('states')))\n",
    "    inputs = get_possible_inputs(ep_states)\n",
    "    outStates = add_inputs(ep_states, inputs)\n",
    "    for input in inputs:\n",
    "        for key in list(states_dict.keys())[1:]:\n",
    "            if(states_dict[key].get('states') == outStates[input]):\n",
    "                nname = key\n",
    "                break\n",
    "        else:   #Only enter if not breaks\n",
    "            nname = f\"NS{ct}\"\n",
    "            states_dict[nname] = {'isTerminatingState': checkTerminating(outStates[input])}\n",
    "            states_dict[nname]['states'] = outStates[input]\n",
    "            states_dict[nname]['inp'] = ', '.join(map(str, outStates[input]))\n",
    "            ct+=1\n",
    "        states_dict[ns][input] = nname\n",
    "    kv = list(states_dict.keys())\n",
    "    i += 1"
   ]
  },
  {
   "cell_type": "markdown",
   "metadata": {},
   "source": [
    "#### Drawing The Graphs"
   ]
  },
  {
   "cell_type": "code",
   "execution_count": null,
   "metadata": {},
   "outputs": [],
   "source": [
    "cleaned_dict = {}\n",
    "cleaned_dict['startingState'] = states_dict['startingState']\n",
    "for key in states_dict:\n",
    "    if key != \"startingState\":\n",
    "        new_value = {k: v for k, v in states_dict[key].items() if (k != 'states' and k != 'inp')}\n",
    "        cleaned_dict[key] = sort_dict(new_value)\n",
    "\n",
    "with open('cleaned_DFA.json', 'w') as _:\n",
    "    json.dump(cleaned_dict, _, indent=4)"
   ]
  },
  {
   "cell_type": "code",
   "execution_count": null,
   "metadata": {},
   "outputs": [
    {
     "data": {
      "text/plain": [
       "'cleaned_dfa.png'"
      ]
     },
     "execution_count": 59,
     "metadata": {},
     "output_type": "execute_result"
    }
   ],
   "source": [
    "graph = Digraph(graph_attr={'rankdir': 'LR'})\n",
    "graph.node('', shape='none')\n",
    "for key in cleaned_dict:\n",
    "    if key != 'startingState':\n",
    "        if cleaned_dict[key][\"isTerminatingState\"]:\n",
    "            graph.node(name= key,label= states_dict[key]['inp'], shape='doublecircle')\n",
    "        else:    \n",
    "            graph.node(name=key,label = states_dict[key]['inp'], shape='circle')\n",
    "\n",
    "for key in cleaned_dict:\n",
    "    if key != 'startingState':\n",
    "        for states in cleaned_dict[key]:\n",
    "            if states != 'isTerminatingState':\n",
    "                graph.edge(key,cleaned_dict[key][states],states)\n",
    "graph.edge('', states_dict['startingState'])\n",
    "graph.unflatten().render('./dfa', view=True, format='png', cleanup=True)\n",
    "\n",
    "graph = Digraph(graph_attr={'rankdir': 'LR'})\n",
    "graph.node('', shape='none')\n",
    "for key in cleaned_dict:\n",
    "    if key != 'startingState':\n",
    "        if cleaned_dict[key][\"isTerminatingState\"]:\n",
    "            graph.node(name= key, shape='doublecircle')\n",
    "        else:\n",
    "            graph.node(name=key, shape='circle')\n",
    "\n",
    "for key in cleaned_dict:\n",
    "    if key != 'startingState':\n",
    "        for states in cleaned_dict[key]:\n",
    "            if states != 'isTerminatingState':\n",
    "                graph.edge(key,cleaned_dict[key][states],states)\n",
    "graph.edge('', states_dict['startingState'])\n",
    "graph.unflatten().render('./cleaned_dfa', view=True, format='png', cleanup=True)\n"
   ]
  },
  {
   "cell_type": "markdown",
   "metadata": {},
   "source": [
    "### DFA Minimization"
   ]
  },
  {
   "cell_type": "code",
   "execution_count": null,
   "metadata": {},
   "outputs": [],
   "source": [
    "\n",
    "Min_list = [[key for key, value in cleaned_dict.items() if key != \"startingState\" and not value['isTerminatingState']],\n",
    "            [key for key, value in cleaned_dict.items() if key != \"startingState\" and value['isTerminatingState']]]\n",
    "\n",
    "list_rows = Min_list\n",
    "Row = namedtuple('Row', ['name','inputs', 'values'])\n",
    "\n",
    "while 1:\n",
    "    state_to_index = {}\n",
    "    for i, sublist in enumerate(list_rows):\n",
    "        for state in sublist:\n",
    "            state_to_index[state] = i\n",
    "\n",
    "    rows = []\n",
    "    for lst in list_rows:\n",
    "        for key in lst:\n",
    "            dict_state = cleaned_dict[key]\n",
    "            key_values = []; inputs = []; inputs_values = []\n",
    "\n",
    "            for k, v in dict_state.items():\n",
    "                if k != 'isTerminatingState':\n",
    "                    inputs.append(k)\n",
    "                    key_values.append(state_to_index.get(v))\n",
    "                    # inputs_values.append(list(zip([k], [state_to_index.get(v)])))\n",
    "\n",
    "            row = Row(key, inputs, (state_to_index.get(key), key_values))\n",
    "            rows.append(row)\n",
    "\n",
    "    dict_rows = defaultdict(list)\n",
    "    for row in rows:\n",
    "        dict_rows[(row.values[0], tuple(row.values[1]), tuple(row.inputs))].append(row.name)\n",
    "\n",
    "    new_list_rows = list(map(list, dict_rows.values()))\n",
    "    if new_list_rows == list_rows:\n",
    "        break\n",
    "    list_rows = new_list_rows\n",
    "\n",
    "state_to_index = {}\n",
    "for i, sublist in enumerate(list_rows):\n",
    "    for state in sublist:\n",
    "        state_to_index[state] = i\n"
   ]
  },
  {
   "cell_type": "code",
   "execution_count": null,
   "metadata": {},
   "outputs": [
    {
     "data": {
      "text/plain": [
       "'minimized_dfa.png'"
      ]
     },
     "execution_count": 61,
     "metadata": {},
     "output_type": "execute_result"
    }
   ],
   "source": [
    "fin_dict = {\"startingState\": f\"S{state_to_index[cleaned_dict['startingState']]}\"}\n",
    "for fin_list in list_rows:\n",
    "    fin_terminating = checkTerminating(set(fin_list), cleaned_dict)\n",
    "    for item in fin_list:\n",
    "        k = f\"S{state_to_index[item]}\"\n",
    "        ns = {'isTerminatingState': fin_terminating}\n",
    "        ns.update({it: f\"S{state_to_index[cleaned_dict[item][it]]}\" for it in cleaned_dict[item] if it != \"isTerminatingState\"})\n",
    "        fin_dict[k]=ns\n",
    "        break\n",
    "\n",
    "with open('minimized_DFA.json', 'w') as _:\n",
    "    json.dump(fin_dict, _, indent=4)\n",
    "\n",
    "    \n",
    "graph = Digraph(graph_attr={'rankdir': 'LR'})\n",
    "graph.node('', shape='none')\n",
    "for key in fin_dict:\n",
    "    if key != 'startingState':\n",
    "        if fin_dict[key][\"isTerminatingState\"]:\n",
    "            graph.node(name= key, shape='doublecircle')\n",
    "        else:\n",
    "            graph.node(name=key, shape='circle')\n",
    "\n",
    "for key in fin_dict:\n",
    "    if key != 'startingState':\n",
    "        for states in fin_dict[key]:\n",
    "            if states != 'isTerminatingState':\n",
    "                graph.edge(key,fin_dict[key][states],states)\n",
    "graph.edge('', fin_dict['startingState'])\n",
    "graph.unflatten().render('./minimized_dfa', view=True, format='png', cleanup=True)"
   ]
  }
 ],
 "metadata": {
  "kernelspec": {
   "display_name": "Python 3",
   "language": "python",
   "name": "python3"
  },
  "language_info": {
   "codemirror_mode": {
    "name": "ipython",
    "version": 3
   },
   "file_extension": ".py",
   "mimetype": "text/x-python",
   "name": "python",
   "nbconvert_exporter": "python",
   "pygments_lexer": "ipython3",
   "version": "3.11.5"
  }
 },
 "nbformat": 4,
 "nbformat_minor": 2
}
