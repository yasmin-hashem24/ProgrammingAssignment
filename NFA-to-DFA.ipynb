{
 "cells": [
  {
   "cell_type": "markdown",
   "metadata": {},
   "source": [
    "### Imports"
   ]
  },
  {
   "cell_type": "code",
   "execution_count": 1,
   "metadata": {},
   "outputs": [],
   "source": [
    "import json\n",
    "import networkx as nx"
   ]
  },
  {
   "cell_type": "markdown",
   "metadata": {},
   "source": [
    "### JSON"
   ]
  },
  {
   "cell_type": "code",
   "execution_count": 2,
   "metadata": {},
   "outputs": [
    {
     "data": {
      "text/plain": [
       "{'startingState': 'S7',\n",
       " 'S7': {'isTerminatingState': False, 'epsilon': ['S5', 'S8']},\n",
       " 'S8': {'isTerminatingState': False, 'epsilon': 'S9'},\n",
       " 'S5': {'isTerminatingState': False, 'epsilon': ['S3', 'S1']},\n",
       " 'S6': {'isTerminatingState': False, 'epsilon': ['S7', 'S8']},\n",
       " 'S3': {'isTerminatingState': False, 'b': 'S4'},\n",
       " 'S4': {'isTerminatingState': False, 'epsilon': 'S6'},\n",
       " 'S1': {'isTerminatingState': False, 'a': 'S2'},\n",
       " 'S2': {'isTerminatingState': False, 'epsilon': 'S6'},\n",
       " 'S9': {'isTerminatingState': False, 'a': 'S10'},\n",
       " 'S10': {'isTerminatingState': False, 'epsilon': 'S17'},\n",
       " 'S17': {'isTerminatingState': False, 'epsilon': ['S15', 'S18']},\n",
       " 'S18': {'isTerminatingState': True},\n",
       " 'S15': {'isTerminatingState': False, 'epsilon': ['S13', 'S11']},\n",
       " 'S16': {'isTerminatingState': False, 'epsilon': 'S18'},\n",
       " 'S13': {'isTerminatingState': False, 'b': 'S14'},\n",
       " 'S14': {'isTerminatingState': False, 'epsilon': 'S16'},\n",
       " 'S11': {'isTerminatingState': False, 'a': 'S12'},\n",
       " 'S12': {'isTerminatingState': False, 'epsilon': 'S16'}}"
      ]
     },
     "execution_count": 2,
     "metadata": {},
     "output_type": "execute_result"
    }
   ],
   "source": [
    "with open('NFA_mt.json') as _:\n",
    "    NFA = json.load(_)\n",
    "\n",
    "Graph = nx.Graph()\n",
    "#For checking purposes\n",
    "NFA"
   ]
  },
  {
   "cell_type": "code",
   "execution_count": 3,
   "metadata": {},
   "outputs": [
    {
     "name": "stdout",
     "output_type": "stream",
     "text": [
      "S7\n"
     ]
    }
   ],
   "source": [
    "startingState = NFA['startingState']\n",
    "keys = list(NFA.keys())\n",
    "ins =  set()\n",
    "DFA = {}\n",
    "\n",
    "#For checking purposes\n",
    "print(startingState)"
   ]
  },
  {
   "cell_type": "code",
   "execution_count": 4,
   "metadata": {},
   "outputs": [],
   "source": [
    "keys = list(NFA[startingState].keys())\n",
    "for key in keys[1:]:\n",
    "    ins.add(key)\n"
   ]
  },
  {
   "cell_type": "code",
   "execution_count": 5,
   "metadata": {},
   "outputs": [],
   "source": [
    "def add_epsilon_moves(queue: list) -> list:\n",
    "    visited = []\n",
    "\n",
    "    while queue:\n",
    "        state = queue.pop(0) \n",
    "        visited.append(state)\n",
    "        if 'epsilon' in NFA[state]:\n",
    "            epsilon_value = NFA[state]['epsilon']\n",
    "            if isinstance(epsilon_value, list):\n",
    "                for item in epsilon_value:\n",
    "                    if item not in visited:\n",
    "                        queue.append(item)\n",
    "            else:\n",
    "                if epsilon_value not in visited:\n",
    "                    queue.append(epsilon_value)\n",
    "    return visited"
   ]
  },
  {
   "cell_type": "code",
   "execution_count": 6,
   "metadata": {},
   "outputs": [],
   "source": [
    "def get_possible_inputs(states: set) -> set:\n",
    "    inputs = set()\n",
    "    for state in states:\n",
    "        keys = list(NFA[state].keys())\n",
    "        for key in keys[1:]:\n",
    "            if key != 'epsilon' and key not in inputs:\n",
    "                inputs.add(key)\n",
    "    return inputs"
   ]
  },
  {
   "cell_type": "code",
   "execution_count": 7,
   "metadata": {},
   "outputs": [],
   "source": [
    "def add_inputs(states: set, inputs: set) -> dict :\n",
    "    state_inputs = {}\n",
    "    for input in inputs:\n",
    "        ns = set()\n",
    "        for state in states:\n",
    "            if(input in NFA[state]):\n",
    "                ns.add(NFA[state][input])\n",
    "        ns.update(add_epsilon_moves(list(ns)))\n",
    "        state_inputs[input] = ns\n",
    "    return state_inputs\n",
    "        "
   ]
  },
  {
   "cell_type": "code",
   "execution_count": 8,
   "metadata": {},
   "outputs": [
    {
     "data": {
      "text/plain": [
       "{'startingState': 'NS0',\n",
       " 'NS0': {'isTerminatingState': False,\n",
       "  'states': {'S1', 'S3', 'S5', 'S7', 'S8', 'S9'},\n",
       "  'a': 'NS1',\n",
       "  'b': 'NS2'},\n",
       " 'NS1': {'isTerminatingState': False,\n",
       "  'states': {'S1',\n",
       "   'S10',\n",
       "   'S11',\n",
       "   'S13',\n",
       "   'S15',\n",
       "   'S17',\n",
       "   'S18',\n",
       "   'S2',\n",
       "   'S3',\n",
       "   'S5',\n",
       "   'S6',\n",
       "   'S7',\n",
       "   'S8',\n",
       "   'S9'}},\n",
       " 'NS2': {'isTerminatingState': False,\n",
       "  'states': {'S1', 'S3', 'S4', 'S5', 'S6', 'S7', 'S8', 'S9'}}}"
      ]
     },
     "execution_count": 8,
     "metadata": {},
     "output_type": "execute_result"
    }
   ],
   "source": [
    "states = set(); states_dict = {}; ini = True\n",
    "states.add(startingState)\n",
    "ct = 0; nname = f\"NS{ct}\"\n",
    "states.update(add_epsilon_moves([startingState]))\n",
    "inputs = get_possible_inputs(states)\n",
    "outStates = add_inputs(states, inputs)\n",
    "states_dict['startingState'] = nname\n",
    "states_dict[nname] = {'isTerminatingState': False}; \n",
    "states_dict[nname]['states'] = states; ct+=1\n",
    "# for state in states:\n",
    "#     if NFA[state]['isTerminatingState']:\n",
    "#         states_dict[nname]['isTerminatingState'] = True\n",
    "#         break\n",
    "for aa in states_dict:\n",
    "    if ini:\n",
    "        ini = False\n",
    "        continue\n",
    "    keys = list(states_dict.keys())\n",
    "    for input in inputs:\n",
    "        for key in keys[1:]:\n",
    "            if(states_dict[key].get('states') == outStates[input]):\n",
    "                nname = key\n",
    "            else:\n",
    "                nname = f\"NS{ct}\"\n",
    "                states_dict[nname] = {'isTerminatingState': False}\n",
    "                states_dict[nname]['states'] = outStates[input]\n",
    "                ct+=1\n",
    "            states_dict[aa][input] = nname\n",
    "    break\n",
    "# states_dict['NS0']['states'] = states\n",
    "states_dict"
   ]
  },
  {
   "cell_type": "code",
   "execution_count": 9,
   "metadata": {},
   "outputs": [
    {
     "data": {
      "text/plain": [
       "{'startingState': 'NS0',\n",
       " 'NS0': {'isTerminatingState': False,\n",
       "  'states': {'S1', 'S3', 'S5', 'S7', 'S8', 'S9'},\n",
       "  'a': 'NS1',\n",
       "  'b': 'NS2'},\n",
       " 'NS1': {'isTerminatingState': False,\n",
       "  'states': {'S1',\n",
       "   'S10',\n",
       "   'S11',\n",
       "   'S13',\n",
       "   'S15',\n",
       "   'S17',\n",
       "   'S18',\n",
       "   'S2',\n",
       "   'S3',\n",
       "   'S5',\n",
       "   'S6',\n",
       "   'S7',\n",
       "   'S8',\n",
       "   'S9'},\n",
       "  'a': 'NS3',\n",
       "  'b': 'NS4'},\n",
       " 'NS2': {'isTerminatingState': False,\n",
       "  'states': {'S1', 'S3', 'S4', 'S5', 'S6', 'S7', 'S8', 'S9'}},\n",
       " 'NS3': {'isTerminatingState': False,\n",
       "  'states': {'S1',\n",
       "   'S10',\n",
       "   'S11',\n",
       "   'S12',\n",
       "   'S13',\n",
       "   'S15',\n",
       "   'S16',\n",
       "   'S17',\n",
       "   'S18',\n",
       "   'S2',\n",
       "   'S3',\n",
       "   'S5',\n",
       "   'S6',\n",
       "   'S7',\n",
       "   'S8',\n",
       "   'S9'}},\n",
       " 'NS4': {'isTerminatingState': False,\n",
       "  'states': {'S1',\n",
       "   'S14',\n",
       "   'S16',\n",
       "   'S18',\n",
       "   'S3',\n",
       "   'S4',\n",
       "   'S5',\n",
       "   'S6',\n",
       "   'S7',\n",
       "   'S8',\n",
       "   'S9'}}}"
      ]
     },
     "execution_count": 9,
     "metadata": {},
     "output_type": "execute_result"
    }
   ],
   "source": [
    "aa = add_epsilon_moves(list(states_dict['NS1']['states']))\n",
    "keys = list(states_dict.keys())\n",
    "inputs = get_possible_inputs(aa)\n",
    "outStates = add_inputs(aa, inputs)\n",
    "for input in inputs:\n",
    "    for key in keys[1:]:\n",
    "        if(states_dict[key].get('states') == outStates[input]):\n",
    "            nname = key\n",
    "            break\n",
    "    else:   #Only enter if not breaks\n",
    "        nname = f\"NS{ct}\"\n",
    "        states_dict[nname] = {'isTerminatingState': False}\n",
    "        states_dict[nname]['states'] = outStates[input]\n",
    "        ct+=1\n",
    "    states_dict['NS1'][input] = nname\n",
    "\n",
    "\n",
    "states_dict"
   ]
  },
  {
   "cell_type": "code",
   "execution_count": 10,
   "metadata": {},
   "outputs": [
    {
     "name": "stdout",
     "output_type": "stream",
     "text": [
      "{'startingState': 'NS0', 'NS0': {'isTerminatingState': False, 'states': {'S3', 'S9', 'S5', 'S7', 'S1', 'S8'}, 'a': 'NS1', 'b': 'NS2'}, 'NS1': {'isTerminatingState': False, 'states': {'S10', 'S6', 'S15', 'S9', 'S3', 'S5', 'S13', 'S11', 'S18', 'S7', 'S1', 'S8', 'S17', 'S2'}, 'a': 'NS3', 'b': 'NS4'}, 'NS2': {'isTerminatingState': False, 'states': {'S9', 'S6', 'S3', 'S5', 'S7', 'S1', 'S8', 'S4'}}, 'NS3': {'isTerminatingState': False, 'states': {'S10', 'S6', 'S15', 'S9', 'S3', 'S16', 'S5', 'S13', 'S12', 'S11', 'S18', 'S7', 'S1', 'S8', 'S17', 'S2'}}, 'NS4': {'isTerminatingState': False, 'states': {'S9', 'S6', 'S3', 'S16', 'S5', 'S14', 'S18', 'S7', 'S1', 'S8', 'S4'}}}\n"
     ]
    }
   ],
   "source": [
    "print(states_dict)"
   ]
  },
  {
   "cell_type": "code",
   "execution_count": 11,
   "metadata": {},
   "outputs": [
    {
     "name": "stdout",
     "output_type": "stream",
     "text": [
      "['S0', 'S1', 'S2']\n",
      "[('S0', 'S1'), ('S0', 'S2')]\n"
     ]
    }
   ],
   "source": [
    "############# Law Omar Samir Wafe2 3ala networkX ################\n",
    "Graph = nx.DiGraph()\n",
    "states = set()\n",
    "ct = 1\n",
    "states.add(startingState)\n",
    "states.update(add_epsilon_moves([startingState]))\n",
    "Graph.add_node('S0', states=states)\n",
    "inputs = get_possible_inputs(states)\n",
    "outStates = add_inputs(states, inputs)\n",
    "for input in inputs:\n",
    "    nname = f\"S{ct}\"\n",
    "    Graph.add_node(nname, states = outStates[input])\n",
    "    Graph.add_edge('S0',nname, input = input)\n",
    "    ct+=1\n",
    "print(Graph.nodes)\n",
    "print(Graph.edges('S0'))"
   ]
  }
 ],
 "metadata": {
  "kernelspec": {
   "display_name": "Python 3",
   "language": "python",
   "name": "python3"
  },
  "language_info": {
   "codemirror_mode": {
    "name": "ipython",
    "version": 3
   },
   "file_extension": ".py",
   "mimetype": "text/x-python",
   "name": "python",
   "nbconvert_exporter": "python",
   "pygments_lexer": "ipython3",
   "version": "3.11.2"
  }
 },
 "nbformat": 4,
 "nbformat_minor": 2
}
