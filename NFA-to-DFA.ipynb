{
 "cells": [
  {
   "cell_type": "code",
   "execution_count": 78,
   "metadata": {},
   "outputs": [],
   "source": [
    "import json\n",
    "import networkx as nx\n",
    "from graphviz import Digraph\n",
    "from collections import namedtuple, defaultdict\n",
    "\n",
    "with open('NFA.json') as _:\n",
    "    NFA = json.load(_)\n",
    "Graph = nx.Graph()\n",
    "startingState = NFA['startingState']"
   ]
  },
  {
   "cell_type": "code",
   "execution_count": 79,
   "metadata": {},
   "outputs": [],
   "source": [
    "def add_epsilon_moves(queue: list) -> list:\n",
    "    visited = []\n",
    "\n",
    "    while queue:\n",
    "        state = queue.pop(0) \n",
    "        visited.append(state)\n",
    "        if '$' in NFA[state]:\n",
    "            epsilon_value = NFA[state]['$']\n",
    "            if isinstance(epsilon_value, list):\n",
    "                for item in epsilon_value:\n",
    "                    if item not in visited and item not in queue:\n",
    "                        queue.append(item)\n",
    "            else:\n",
    "                if epsilon_value not in visited and epsilon_value not in queue:\n",
    "                    queue.append(epsilon_value)\n",
    "    return visited\n",
    "\n",
    "def get_possible_inputs(states: set) -> set:\n",
    "    inputs = set()\n",
    "    for state in states:\n",
    "        keys = list(NFA[state].keys())\n",
    "        for key in keys[1:]:\n",
    "            if key != '$' and key not in inputs:\n",
    "                inputs.add(key)\n",
    "    return inputs\n",
    "\n",
    "def add_inputs(states: set, inputs: set) -> dict :\n",
    "    state_inputs = {}\n",
    "    for input in inputs:\n",
    "        ns = set()\n",
    "        for state in states:\n",
    "            if(input in NFA[state]):\n",
    "                ns.add(NFA[state][input])\n",
    "        ns.update(add_epsilon_moves(list(ns)))\n",
    "        state_inputs[input] = ns\n",
    "    return state_inputs\n",
    "\n",
    "\n",
    "def checkTerminating(states: set) -> bool:\n",
    "    for state in states:\n",
    "        if NFA[state]['isTerminatingState']:\n",
    "            return True\n",
    "    return False"
   ]
  },
  {
   "cell_type": "code",
   "execution_count": 80,
   "metadata": {},
   "outputs": [],
   "source": [
    "states = set(); states_dict = {}\n",
    "states.add(startingState)\n",
    "ct = 0; nname = f\"NS{ct}\"\n",
    "states.update(add_epsilon_moves([startingState]))\n",
    "\n",
    "states_dict['startingState'] = nname\n",
    "states_dict[nname] = {'isTerminatingState': checkTerminating(states)}; \n",
    "states_dict[nname]['states'] = states; ct+=1\n",
    "states_dict[nname]['inp'] = ', '.join(map(str, states))\n",
    "\n",
    "kv = list(states_dict.keys())\n",
    "i = 0\n",
    "while i < len(kv):\n",
    "    ns = kv[i]\n",
    "    ep_states = set().clear()\n",
    "    if ns == \"startingState\":\n",
    "        i += 1\n",
    "        continue\n",
    "    ep_states = add_epsilon_moves(list(states_dict[ns].get('states')))\n",
    "    inputs = get_possible_inputs(ep_states)\n",
    "    outStates = add_inputs(ep_states, inputs)\n",
    "    for input in inputs:\n",
    "        for key in list(states_dict.keys())[1:]:\n",
    "            if(states_dict[key].get('states') == outStates[input]):\n",
    "                nname = key\n",
    "                break\n",
    "        else:   #Only enter if not breaks\n",
    "            nname = f\"NS{ct}\"\n",
    "            states_dict[nname] = {'isTerminatingState': checkTerminating(outStates[input])}\n",
    "            states_dict[nname]['states'] = outStates[input]\n",
    "            states_dict[nname]['inp'] = ', '.join(map(str, outStates[input]))\n",
    "            ct+=1\n",
    "        states_dict[ns][input] = nname\n",
    "    kv = list(states_dict.keys())\n",
    "    i += 1"
   ]
  },
  {
   "cell_type": "markdown",
   "metadata": {},
   "source": [
    "### Drawing The Graphs"
   ]
  },
  {
   "cell_type": "code",
   "execution_count": 81,
   "metadata": {},
   "outputs": [],
   "source": [
    "cleaned_dict = {}\n",
    "cleaned_dict['startingState'] = states_dict['startingState']\n",
    "for key in states_dict:\n",
    "    if key != \"startingState\":\n",
    "        new_value = {k: v for k, v in states_dict[key].items() if (k != 'states' and k != 'inp')}\n",
    "        cleaned_dict[key] = new_value\n",
    "\n",
    "with open('cleaned_DFA.json', 'w') as _:\n",
    "    json.dump(cleaned_dict, _, indent=4)"
   ]
  },
  {
   "cell_type": "code",
   "execution_count": 82,
   "metadata": {},
   "outputs": [
    {
     "data": {
      "text/plain": [
       "'cleaned_dfa.png'"
      ]
     },
     "execution_count": 82,
     "metadata": {},
     "output_type": "execute_result"
    }
   ],
   "source": [
    "graph = Digraph(graph_attr={'rankdir': 'LR'})\n",
    "graph.node('', shape='none')\n",
    "for key in cleaned_dict:\n",
    "    if key != 'startingState':\n",
    "        if cleaned_dict[key][\"isTerminatingState\"]:\n",
    "            graph.node(name= key,label= states_dict[key]['inp'], shape='doublecircle')\n",
    "        else:    \n",
    "            graph.node(name=key,label = states_dict[key]['inp'], shape='circle')\n",
    "\n",
    "for key in cleaned_dict:\n",
    "    if key != 'startingState':\n",
    "        for states in cleaned_dict[key]:\n",
    "            if states != 'isTerminatingState':\n",
    "                graph.edge(key,cleaned_dict[key][states],states)\n",
    "graph.edge('', states_dict['startingState'])\n",
    "graph.unflatten().render('./dfa', view=True, format='png', cleanup=True)\n",
    "\n",
    "graph = Digraph(graph_attr={'rankdir': 'LR'})\n",
    "graph.node('', shape='none')\n",
    "for key in cleaned_dict:\n",
    "    if key != 'startingState':\n",
    "        if cleaned_dict[key][\"isTerminatingState\"]:\n",
    "            graph.node(name= key, shape='doublecircle')\n",
    "        else:\n",
    "            graph.node(name=key, shape='circle')\n",
    "\n",
    "for key in cleaned_dict:\n",
    "    if key != 'startingState':\n",
    "        for states in cleaned_dict[key]:\n",
    "            if states != 'isTerminatingState':\n",
    "                graph.edge(key,cleaned_dict[key][states],states)\n",
    "graph.edge('', states_dict['startingState'])\n",
    "graph.unflatten().render('./cleaned_dfa', view=True, format='png', cleanup=True)\n"
   ]
  },
  {
   "cell_type": "markdown",
   "metadata": {},
   "source": [
    "### DFA Minimization"
   ]
  },
  {
   "cell_type": "code",
   "execution_count": 83,
   "metadata": {},
   "outputs": [
    {
     "data": {
      "text/plain": [
       "[['NS0'], ['NS1', 'NS2', 'NS3'], ['NS4', 'NS5', 'NS6']]"
      ]
     },
     "execution_count": 83,
     "metadata": {},
     "output_type": "execute_result"
    }
   ],
   "source": [
    "# Min_Dict = {}; c = 0; finalname = f\"S{c}\"\n",
    "# Min_Dict['startingState'] = cleaned_dict['startingState']\n",
    "\n",
    "Min_list = [[key for key, value in cleaned_dict.items() if key != \"startingState\" and not value['isTerminatingState']],\n",
    "            [key for key, value in cleaned_dict.items() if key != \"startingState\" and value['isTerminatingState']]]\n",
    "\n",
    "\n",
    "Row = namedtuple('Row', ['name', 'inputs', 'values'])\n",
    "\n",
    "list_rows = Min_list\n",
    "\n",
    "while 1:\n",
    "    state_to_index = {}\n",
    "    for i, sublist in enumerate(list_rows):\n",
    "        for state in sublist:\n",
    "            state_to_index[state] = i\n",
    "\n",
    "    rows = []\n",
    "    for lst in list_rows:\n",
    "        for key in lst:\n",
    "            dict_state = cleaned_dict[key]\n",
    "            key_values = []; inputs = []\n",
    "\n",
    "            for k, v in dict_state.items():\n",
    "                if k != 'isTerminatingState':\n",
    "                    inputs.append(k)\n",
    "                    key_values.append(state_to_index.get(v))\n",
    "\n",
    "            row = Row(key, inputs, (state_to_index.get(key),key_values))\n",
    "            rows.append(row)\n",
    "\n",
    "    dict_rows = defaultdict(list)\n",
    "    for row in rows:\n",
    "        dict_rows[(row.values[0], tuple(row.values[1]))].append(row.name)\n",
    "\n",
    "    new_list_rows = list(map(list, dict_rows.values()))\n",
    "    if new_list_rows == list_rows:\n",
    "        break\n",
    "\n",
    "    # Otherwise, update list_rows with new_list_rows and continue the loop\n",
    "    list_rows = new_list_rows\n",
    "\n",
    "list_rows"
   ]
  },
  {
   "cell_type": "code",
   "execution_count": null,
   "metadata": {},
   "outputs": [],
   "source": []
  }
 ],
 "metadata": {
  "kernelspec": {
   "display_name": "Python 3",
   "language": "python",
   "name": "python3"
  },
  "language_info": {
   "codemirror_mode": {
    "name": "ipython",
    "version": 3
   },
   "file_extension": ".py",
   "mimetype": "text/x-python",
   "name": "python",
   "nbconvert_exporter": "python",
   "pygments_lexer": "ipython3",
   "version": "3.11.9"
  }
 },
 "nbformat": 4,
 "nbformat_minor": 2
}
